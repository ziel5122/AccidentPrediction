{
 "cells": [
  {
   "cell_type": "code",
   "execution_count": 1,
   "metadata": {
    "collapsed": false
   },
   "outputs": [],
   "source": [
    "import numpy\n",
    "import sklearn\n"
   ]
  },
  {
   "cell_type": "markdown",
   "metadata": {},
   "source": [
    "Load the data from the csv crafted in R"
   ]
  },
  {
   "cell_type": "code",
   "execution_count": 4,
   "metadata": {
    "collapsed": false
   },
   "outputs": [],
   "source": [
    "import csv\n",
    "import numpy\n",
    "\n",
    "# MONTH(INT), DAYOFWEEK(INT), HOUR(INT), INJURY(BOOL)\n",
    "reader = csv.reader(open(\"/Users/austinzielinski/AccidentPrediction/time-GES.csv\",\"rb\"),\n",
    "                    delimiter=',')\n",
    "rows = list(reader)\n",
    "data = numpy.array(rows).astype('float')"
   ]
  },
  {
   "cell_type": "markdown",
   "metadata": {},
   "source": [
    "Build a KNN classifier"
   ]
  },
  {
   "cell_type": "code",
   "execution_count": 19,
   "metadata": {
    "collapsed": false
   },
   "outputs": [
    {
     "name": "stdout",
     "output_type": "stream",
     "text": [
      "[ 0.52606769  0.52333365  0.51414294  0.5126827   0.50796794]\n"
     ]
    },
    {
     "data": {
      "text/plain": [
       "0.51683898263808703"
      ]
     },
     "execution_count": 19,
     "metadata": {},
     "output_type": "execute_result"
    }
   ],
   "source": [
    "from numpy  import mean\n",
    "from sklearn.neighbors import KNeighborsClassifier\n",
    "from sklearn.model_selection import cross_val_score\n",
    "from sklearn import metrics\n",
    "\n",
    "knn = KNeighborsClassifier(n_neighbors=7, n_jobs=-1, weights='distance')\n",
    "scores = cross_val_score(knn, data[:,:3], data[:,3], cv=5)\n",
    "print scores\n",
    "mean(scores)"
   ]
  },
  {
   "cell_type": "markdown",
   "metadata": {},
   "source": [
    "Import new data which has already been manipulated to sines and cosines of the previous features in R"
   ]
  },
  {
   "cell_type": "code",
   "execution_count": 5,
   "metadata": {
    "collapsed": false
   },
   "outputs": [],
   "source": [
    "import csv\n",
    "import numpy\n",
    "\n",
    "# sin(MONTH)(float), cos(MONTH)(float), sin(DAYOFWEEK)(float), cos(DAYOFWEEK)(float), sin(HOUR)(float), \n",
    "# sin(HOUR)(float), cos(HOUR)(float), INJURY(BOOL)\n",
    "reader = csv.reader(open(\"/Users/austinzielinski/AccidentPrediction/time2-GES.csv\",\"rb\"),\n",
    "                    delimiter=',')\n",
    "rows = list(reader)\n",
    "data2 = numpy.array(rows).astype('float')"
   ]
  },
  {
   "cell_type": "code",
   "execution_count": 5,
   "metadata": {
    "collapsed": false
   },
   "outputs": [
    {
     "name": "stdout",
     "output_type": "stream",
     "text": [
      "[ 0.52521919  0.51579146  0.51659438  0.5164545   0.5184347 ]\n"
     ]
    },
    {
     "data": {
      "text/plain": [
       "0.51849884741749697"
      ]
     },
     "execution_count": 5,
     "metadata": {},
     "output_type": "execute_result"
    }
   ],
   "source": [
    "from numpy import mean\n",
    "from sklearn.neighbors import KNeighborsClassifier\n",
    "from sklearn.model_selection import cross_val_score\n",
    "from sklearn import metrics\n",
    "\n",
    "knn = KNeighborsClassifier(n_neighbors=21, n_jobs=-1, weights='distance')\n",
    "scores = cross_val_score(knn, data2[:,:5], data2[:,6], cv=5)\n",
    "print scores\n",
    "mean(scores)"
   ]
  },
  {
   "cell_type": "code",
   "execution_count": 6,
   "metadata": {
    "collapsed": false
   },
   "outputs": [
    {
     "name": "stdout",
     "output_type": "stream",
     "text": [
      "(53030, 4)\n",
      "(53030, 7)\n"
     ]
    }
   ],
   "source": [
    "print data.shape\n",
    "print data2.shape"
   ]
  },
  {
   "cell_type": "code",
   "execution_count": 23,
   "metadata": {
    "collapsed": false
   },
   "outputs": [],
   "source": [
    "from math import acos\n",
    "from numpy import linalg\n",
    "from numpy import pi\n",
    "from numpy import sqrt\n",
    "from numpy import sum\n",
    "\n",
    "factors = [12, 7, 24, 0, 0]\n",
    "\n",
    "# vectors must be same length\n",
    "def circularDist(vector1, vector2):\n",
    "    if (len(vector1) > 7 or len(vector2) > 7):\n",
    "        print 1, len(vector1), 2, len(vector2)\n",
    "    distances = numpy.empty(shape=( len(vector2)/2,1), dtype='float')\n",
    "    #print distances.shape\n",
    "    index = 0\n",
    "    for i in range(0, len(vector1)-1, 2):\n",
    "        c = linalg.norm(vector1[i:i+2] - vector2[i:i+2]) # Eclidean distance between two points\n",
    "        cos = 1 - (c*c / 2.0)\n",
    "        if cos <= -1:\n",
    "            distances[index] = pi\n",
    "        elif cos >= 1:\n",
    "            distances[index] = 0\n",
    "        else:\n",
    "            distances[index] = acos(cos)\n",
    "            \n",
    "        distances[index] *= factors[index]\n",
    "        '''\n",
    "        if (distance <= pi):\n",
    "            distances[index] = distance\n",
    "            \n",
    "            if (i == 0):\n",
    "                distances[index] = distances[index] * 12\n",
    "            elif (i == 2):\n",
    "                distances[index] = distances[index] * 7\n",
    "            elif (i == 4):\n",
    "                distances[index] = distances[index] * 24\n",
    "                \n",
    "        else:\n",
    "            distances[index] = 2*pi - distance\n",
    "            \n",
    "            if (i == 0):\n",
    "                distances[index] = distances[index] * 12\n",
    "            elif (i == 2):\n",
    "                distances[index] = distances[index] * 7\n",
    "            elif (i == 4):\n",
    "                distances[index] = distances[index] * 24\n",
    "        '''\n",
    "        index += 1\n",
    "    return sqrt(sum(distances * distances))"
   ]
  },
  {
   "cell_type": "code",
   "execution_count": 24,
   "metadata": {
    "collapsed": false
   },
   "outputs": [
    {
     "data": {
      "text/plain": [
       "19.869176531592188"
      ]
     },
     "execution_count": 24,
     "metadata": {},
     "output_type": "execute_result"
    }
   ],
   "source": [
    "circularDist(data2[0], data2[1])"
   ]
  },
  {
   "cell_type": "code",
   "execution_count": null,
   "metadata": {
    "collapsed": false
   },
   "outputs": [
    {
     "name": "stdout",
     "output_type": "stream",
     "text": [
      "1 10 2 10\n",
      "1 10 2 10\n"
     ]
    }
   ],
   "source": [
    "from numpy import mean\n",
    "from sklearn.neighbors import KNeighborsClassifier\n",
    "from sklearn.model_selection import cross_val_score\n",
    "\n",
    "knn = KNeighborsClassifier(n_neighbors=7, n_jobs=-1, weights='distance', metric=circularDist)\n",
    "scores = cross_val_score(knn, data2[:,:6], data2[:,6], cv=5)\n",
    "print scores\n",
    "mean(scores)"
   ]
  },
  {
   "cell_type": "code",
   "execution_count": 11,
   "metadata": {
    "collapsed": false
   },
   "outputs": [
    {
     "name": "stdout",
     "output_type": "stream",
     "text": [
      "[ 0.53492976  0.53492976  0.53630021  0.53437058  0.53625648]\n",
      "0.535357359373\n",
      "[ 0.56585274  0.54171773  0.53969451  0.53899104  0.5474776 ]\n",
      "0.546746726347\n"
     ]
    }
   ],
   "source": [
    "from numpy import mean\n",
    "from sklearn.linear_model import LogisticRegression\n",
    "from sklearn.model_selection import cross_val_score\n",
    "\n",
    "fit = LogisticRegression()\n",
    "\n",
    "scores = cross_val_score(fit, data[:,:3], data[:,3], cv=5)\n",
    "print scores\n",
    "print mean(scores)\n",
    "\n",
    "scores = cross_val_score(fit, data2[:,:6], data2[:,6], cv=5)\n",
    "print scores\n",
    "print mean(scores)"
   ]
  },
  {
   "cell_type": "code",
   "execution_count": null,
   "metadata": {
    "collapsed": true
   },
   "outputs": [],
   "source": []
  },
  {
   "cell_type": "code",
   "execution_count": null,
   "metadata": {
    "collapsed": true
   },
   "outputs": [],
   "source": []
  }
 ],
 "metadata": {
  "anaconda-cloud": {},
  "kernelspec": {
   "display_name": "Python 2",
   "language": "python",
   "name": "python2"
  },
  "language_info": {
   "codemirror_mode": {
    "name": "ipython",
    "version": 2
   },
   "file_extension": ".py",
   "mimetype": "text/x-python",
   "name": "python",
   "nbconvert_exporter": "python",
   "pygments_lexer": "ipython2",
   "version": "2.7.10"
  }
 },
 "nbformat": 4,
 "nbformat_minor": 1
}
